
#NUMERO 1

import pandas as pd
import numpy as np
import matplotlib.pyplot as plt

#Cargar el dataset a trabajar
df=pd.read_csv("DATA_LUGARES_DE_ESTUDIO.csv", delimiter=";")

#Visualizar las primeras filas y la infromación general de la data

#print(df.head(8))
#print(df.info())
print()


#Eliminar duplicados
df=df.drop_duplicates()
#print("Resgitros duplicados eliminados")
print()
#print(df.info())


#Analitica descriptiva no grafica:

#Calcular la moda de la variable lugar
moda_lugar=df['LUGAR_DE_ESTUDIO'].mode()[0]
print("Lugar de estudio más preferido por loes estudiantes Unisinuanos: "+moda_lugar)
print()
print()
contar_lugares=df['LUGAR_DE_ESTUDIO'].value_counts()
#print("Conteo de lugares preferidos: ")
print()
#print(contar_lugares)
print()
print()

#Contar cuantos estudinates de cada carrera asisten a cada lugar
carrera_lugares=df.groupby(["CARRERA","LUGAR_DE_ESTUDIO"])["LUGAR_DE_ESTUDIO"].count()
#print(carrera_lugares)
print()
print()

#Caclcular el lugar de preferencia por carrera
preferencias_carreras_lugares = df.groupby("CARRERA")["LUGAR_DE_ESTUDIO"].agg(lambda x: x.mode()[0])
print("Lugares mas escogidos por carreras:")
print(preferencias_carreras_lugares)
print()



#NUMERO 2

#Contar frecuencia de lugares
contar_lugares=df['LUGAR_DE_ESTUDIO'].value_counts()
print(contar_lugares)

#Grafica de barras de frecuencia de lugares de estudio
plt.figure(figsize=(10,5))  
contar_lugares.plot(kind='bar', color='coral')
plt.title("Distribución de Lugares de Estudio")
plt.xlabel("Lugar de Estudio")
plt.ylabel("Frecuencia")
plt.show()




#NUMERO 3


#Promedio de horas de estudio:
Prom_horas_de_estudio= df.HORAS_DE_ESTUDIO.mean()
print("Promedio de horas de estudio de los estudiantes unisinuanos:\n", Prom_horas_de_estudio)
#Promedio de horas de estudio por lugar de estudio
Prom_horas_lugar = df.groupby("LUGAR_DE_ESTUDIO")["HORAS_DE_ESTUDIO"].mean()
print()
print()
print("Promedio de horas por lugar de estudio:\n", Prom_horas_lugar)
print()


#NUMERO 4


#Promedio de horas de estudio por carrera
Prom_horas_carrera= df.groupby("CARRERA")["HORAS_DE_ESTUDIO"].mean()
print("¿Que carrera estudia mas en la unisinu?\n\n")
print("Promedio de horas de estudio por carrera: \n",Prom_horas_carrera)
print()
print()

#Promedio de horas por carrera y lugar de estudio
Prom_lugar_carrera_hora=df.groupby(["CARRERA", "LUGAR_DE_ESTUDIO"])["HORAS_DE_ESTUDIO"].mean()
print("Promedio de horas por carrera y lugar de estudio \n",Prom_lugar_carrera_hora)
print()
print()
print()


#NUMERO 5


#Mediana de las horas de estudio
Mediana_horas= df.HORAS_DE_ESTUDIO.median()
print("Mediana de las horas de estudio:\n",Mediana_horas)
print()
print()

#Mediana por lugar de estudio
mediana_por_lugar = df.groupby("LUGAR_DE_ESTUDIO")["HORAS_DE_ESTUDIO"].median()
print("Mediana de las horas de estudio por lugar de estudio:\n",mediana_por_lugar)
print()
print()
#Media de las horas de estudio
media_lugar_de_estudio= df.HORAS_DE_ESTUDIO.mean()
print("Media de las horas de eestudio: ",media_lugar_de_estudio)
print()
print()

# Calcular la desviación estándar de las horas de estudio
desviacion_estandar_horas = df["HORAS_DE_ESTUDIO"].std()
print(f"Desviación estándar de las horas de estudio: {desviacion_estandar_horas:.2f}")
print()
print()

#Calcular desviacion baja o alta
Nivel_desvicacion_horas=desviacion_estandar_horas / media_lugar_de_estudio;
Porcentaje_Nivel_desviacion_horas=Nivel_desvicacion_horas *100;
print("Nivel de desviacion estandar de las horas de estudio:",Porcentaje_Nivel_desviacion_horas,"%")
print()
print()


#NUMERO 6


#Promedio de puntuacion
Puntuacion= df.PUNTUACION.mean()
print("Puntuacion promedio de los lugares de estudio: ",Puntuacion)
print()

Puntuacion_por_lugar=df.groupby("LUGAR_DE_ESTUDIO")["PUNTUACION"].mean()
print("Puntuacion por lugar de estudio:")
print(Puntuacion_por_lugar)


#NUMERO 7


#CALCULAR LOS VALORES ATIPICOS QUE SE ENCUENTRAN EN LA DATA
# Calcular los cuartiles
Q1 = df["HORAS_DE_ESTUDIO"].quantile(0.25)
Q3 = df["HORAS_DE_ESTUDIO"].quantile(0.75)
print("Cuartil del 25%",Q1)
print("Cuartil del 75%",Q3)

# Calcular el rango intercuartílico (IQR)
IQR = Q3 - Q1

# Definir los límites para outliers
limite_inferior = Q1 - 1.5 * IQR
limite_superior = Q3 + 1.5 * IQR

print(f"Límite inferior: {limite_inferior:.2f}, Límite superior: {limite_superior:.2f}")


#Filtrar los valores atipicos
outliers = df[(df["HORAS_DE_ESTUDIO"] < limite_inferior) | (df["HORAS_DE_ESTUDIO"] > limite_superior)]
print("Valores atípicos detectados:")
print(outliers)

#Boxplot de horas de estudio, para evidenciar el outlier detectado arriba
import seaborn as sns

plt.figure(figsize=(8,5))
sns.boxplot(x=df["HORAS_DE_ESTUDIO"])
plt.title("Detección de Valores Atípicos en Horas de Estudio")
plt.show()


plt.figure(figsize=(8,5))
sns.boxplot(x=df["PUNTUACION"])
plt.title("Detección de Valores Atípicos en Puntuación")
plt.show()


#NUMERO 8


#Contar frecuencia de lugares
contar_puntuacion=df['PUNTUACION'].value_counts()
print("Conteo de puntuacion: \n",contar_puntuacion)

#Grafica de barras de distribucion de puntuacion
plt.figure(figsize=(10,5))  
contar_puntuacion.plot(kind='bar', color='coral')
plt.title("Distribución de Puntuacion")
plt.xlabel("Puntuacion")
plt.ylabel("Frecuencia")
plt.show()
print()
print()
print()
#Grafica de pastel de distribucion de puntuacion
plt.figure(figsize=(10,5))
contar_puntuacion.plot(kind='pie', autopct='%1.1f%%', startangle=140, 
                       colors=plt.cm.Pastel1(np.linspace(0, 1, len(contar_puntuacion))))
plt.title("Distribución de Puntuación")
plt.ylabel("Frecuencia")
#plt.axis('equal')  # Asegura que el gráfico sea circular
plt.show()


#NUMERO 9


#Contar areas de estudio
print("¿Que es lo que mas estudian los estudiantes Unisinuanos?\n")
contar_asignaturas =df['AREA_DE_ESTUDIO'].value_counts()
print(contar_asignaturas)

#Histograma de el area de estudio mas frecuentada.
plt.figure(figsize=(30,8))
plt.subplot(2,2,1)
plt.hist(df['AREA_DE_ESTUDIO'], bins=30, color='skyblue', edgecolor='black')
plt.title('==Histograma de áreas de estudio==')
plt.xlabel('Área de estudio')
plt.ylabel('Frecuencia')
plt.xticks(rotation=45, ha="right")  # Rotar etiquetas para mayor legibilidad
plt.show()


#NUMERO 10


#Moda de la variable "NUEVOS_ESPACIOS" para definir que prefieren los estudiantes, junto con moda de la variable
#"MEJORAS_SUGERIDAS" para comprobar que mejoras exigen y necesitan los estudiantes unisinuanos

moda_nuevos_espacios=df['NUEVOS_ESPACIOS'].mode()[0]
print("Los estudiantes necesitan mas lugares de estudio? : "+moda_nuevos_espacios)
print()
print()
contar_nuevos_espacios=df['NUEVOS_ESPACIOS'].value_counts()
print()
print("Aunque la mayoria de los estudiantes consideran que necesitan más ", moda_nuevos_espacios, "Tambien se presentan las otras opiniones del resto de estudinates")
print(contar_nuevos_espacios)
print()
print()

#Contar cuantos estudinates necesitan lugares
carrera_nuevos_espacios=df.groupby(["CARRERA","NUEVOS_ESPACIOS"])["NUEVOS_ESPACIOS"].count()
#print(carrera_nuevos_espacios)
print()
print()

#Caclcular el lugar de preferencia por carrera
preferencias_carreras_lugares = df.groupby("CARRERA")["NUEVOS_ESPACIOS"].agg(lambda x: x.mode()[0])
print("Espacios más necesitados por carreras: ")
print(preferencias_carreras_lugares)
print()


#Grafica de pastel de distribucion de puntuacion
plt.figure(figsize=(10,5))
contar_nuevos_espacios.plot(kind='pie', autopct='%1.1f%%', startangle=140, 
                       colors=plt.cm.Pastel1(np.linspace(0, 1, len(contar_puntuacion))))
plt.title("Distribución de Puntuación")
plt.ylabel("Frecuencia")
#plt.axis('equal')  # Asegura que el gráfico sea circular
plt.show()


#NUMERO 11


# Moda de la variable "MEJORAS_SUGERIDAS" para definir cuáles son las mejoras que los estudiantes exigen y necesitan
moda_mejoras_sugeridas = df['MEJORAS_SUGERIDAS'].mode()[0]
print("¿Qué mejoras sugieren los estudiantes? : " + moda_mejoras_sugeridas)
print("\n")

# Contar frecuencia de las mejoras sugeridas
contar_mejoras_sugeridas = df['MEJORAS_SUGERIDAS'].value_counts()
print("Aunque la mayoría de los estudiantes sugieren ", moda_mejoras_sugeridas, 
      "también se presentan otras opiniones:")
print(contar_mejoras_sugeridas)
print("\n")

# Contar cuántos estudiantes sugieren cada tipo de mejora por carrera
carrera_mejoras_sugeridas = df.groupby(["CARRERA", "MEJORAS_SUGERIDAS"])["MEJORAS_SUGERIDAS"].count()
print("Conteo de mejoras sugeridas por carrera:")
#print(carrera_mejoras_sugeridas)
print("\n")

# Calcular la mejora de preferencia por carrera (moda por carrera)
preferencias_carreras_mejoras = df.groupby("CARRERA")["MEJORAS_SUGERIDAS"].agg(lambda x: x.mode()[0])
print("Mejoras más sugeridas por carrera:")
print(preferencias_carreras_mejoras)
print()


#Histograma de las mejoras sugeridas
plt.figure(figsize=(30,8))
plt.subplot(2,2,1)
plt.hist(df['MEJORAS_SUGERIDAS'], bins=30, color='skyblue', edgecolor='black')
plt.title('==Histograma de mejoras sugeridas==')
plt.xlabel('Mejora Sugerida')
plt.ylabel('Frecuencia')
plt.xticks(rotation=45, ha="right")  # Rotar etiquetas para mayor legibilidad
plt.show()


#NUMERO 12


# Gráfico de barras con diferenciación por 'MEJORAS_SUGERIDAS'
plt.figure(figsize=(12, 8))
sns.countplot(data=df, x='LUGAR_DE_ESTUDIO', hue='MEJORAS_SUGERIDAS')
plt.title("Distribución de LUGAR_DE_ESTUDIO por MEJORAS_SUGERIDAS")
plt.xlabel("LUGAR_DE_ESTUDIO")
plt.ylabel("Conteo")
plt.xticks(rotation=90)
plt.legend(title="MEJORAS_SUGERIDAS")
plt.show()


#NUMERO 13


# Crear una tabla de contingencia entre 'MEJORAS_SUGERIDAS' y 'LUGAR_DE_ESTUDIO'
tabla = pd.crosstab(df['MEJORAS_SUGERIDAS'], df['LUGAR_DE_ESTUDIO'])

# Visualizar con heatmap
plt.figure(figsize=(12, 8))
sns.heatmap(tabla, annot=True, cmap="YlGnBu", fmt="d")
plt.title("Distribución de MEJORAS_SUGERIDAS vs LUGAR_DE_ESTUDIO")
plt.xlabel("LUGAR_DE_ESTUDIO")
plt.ylabel("MEJORAS_SUGERIDAS")
plt.show()


#NUMERO 14


#VERIFICAR SESGOS EN LA DATA
#SESGO DE SELECCION, mediante la variable carrera
#Calcular la moda de la variable carrera
moda_carrera=df['CARRERA'].mode()[0]
print("Carrera con mayor proporcion en la data: \n", moda_carrera)
print()
print()
contar_carreras=df.CARRERA.value_counts()

print(contar_carreras)
#Respuesta
print("Se evidencia un sesgo de seleccion en la data en este caso, el sesgo de selección se observa porque la muestra está fuertemente dominada por estudiantes de Ingeniería en Sistemas (111 registros),")
print("mientras que las demás carreras aparecen con frecuencias mucho menores. Esto significa que las conclusiones que se sacarán del análisis tenderán a reflejar sobre todo la perspectiva")
print("de quienes cursan Ingeniería en Sistemas, y no necesariamente la de todo el alumno de la institución. En otras palabras, la sobre-representación de una sola carrera")
print("sesga los resultados y puede llevar a interpretaciones poco precisas o no generalizables al resto de las carreras.")